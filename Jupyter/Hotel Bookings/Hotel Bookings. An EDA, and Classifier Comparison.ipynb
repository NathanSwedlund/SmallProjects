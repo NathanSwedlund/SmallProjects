{
 "cells": [
  {
   "cell_type": "markdown",
   "metadata": {},
   "source": [
    "# Hotel Bookings: An EDA, and Classifier Comparison\n",
    "---\n",
    "Author: _Nathan Swedlund_\n",
    "\n",
    "Date: _02-25-20_\n",
    "\n",
    "Data source: _https://www.kaggle.com/jessemostipak/hotel-booking-demand/data_\n",
    "\n",
    "---"
   ]
  },
  {
   "cell_type": "markdown",
   "metadata": {},
   "source": [
    "## Summary"
   ]
  },
  {
   "cell_type": "markdown",
   "metadata": {},
   "source": [
    "This is an exploratory data analysis(EDA) of hotel bookings, with a specific focus on cancelations. I will start by reading in the data, followed by some simple exploration of the data. After this, I will make a classifier, to try to predict the likelyhood of a cancelation occurring"
   ]
  },
  {
   "cell_type": "markdown",
   "metadata": {},
   "source": [
    "## Setup\n",
    "---\n",
    "\n",
    "### Importing needed libraries."
   ]
  },
  {
   "cell_type": "code",
   "execution_count": 1,
   "metadata": {},
   "outputs": [],
   "source": [
    "import numpy as np\n",
    "import pandas as pd\n",
    "import seaborn as sns\n",
    "import matplotlib.pyplot as plt\n",
    "\n",
    "from sklearn.neighbors import KNeighborsClassifier\n",
    "from sklearn.tree import DecisionTreeClassifier\n",
    "from sklearn import tree\n",
    "from sklearn.naive_bayes import GaussianNB\n",
    "\n",
    "from matplotlib.colors import ListedColormap # for making palettes"
   ]
  },
  {
   "cell_type": "markdown",
   "metadata": {},
   "source": [
    "### Reading in data:\n",
    "\n",
    "Here I am reading in the data we will be using throughout the remainder of this notebook."
   ]
  },
  {
   "cell_type": "code",
   "execution_count": 2,
   "metadata": {},
   "outputs": [
    {
     "data": {
      "text/html": [
       "<div>\n",
       "<style scoped>\n",
       "    .dataframe tbody tr th:only-of-type {\n",
       "        vertical-align: middle;\n",
       "    }\n",
       "\n",
       "    .dataframe tbody tr th {\n",
       "        vertical-align: top;\n",
       "    }\n",
       "\n",
       "    .dataframe thead th {\n",
       "        text-align: right;\n",
       "    }\n",
       "</style>\n",
       "<table border=\"1\" class=\"dataframe\">\n",
       "  <thead>\n",
       "    <tr style=\"text-align: right;\">\n",
       "      <th></th>\n",
       "      <th>hotel</th>\n",
       "      <th>is_canceled</th>\n",
       "      <th>lead_time</th>\n",
       "      <th>arrival_date_year</th>\n",
       "      <th>arrival_date_month</th>\n",
       "      <th>arrival_date_week_number</th>\n",
       "      <th>arrival_date_day_of_month</th>\n",
       "      <th>stays_in_weekend_nights</th>\n",
       "      <th>stays_in_week_nights</th>\n",
       "      <th>adults</th>\n",
       "      <th>...</th>\n",
       "      <th>deposit_type</th>\n",
       "      <th>agent</th>\n",
       "      <th>company</th>\n",
       "      <th>days_in_waiting_list</th>\n",
       "      <th>customer_type</th>\n",
       "      <th>adr</th>\n",
       "      <th>required_car_parking_spaces</th>\n",
       "      <th>total_of_special_requests</th>\n",
       "      <th>reservation_status</th>\n",
       "      <th>reservation_status_date</th>\n",
       "    </tr>\n",
       "  </thead>\n",
       "  <tbody>\n",
       "    <tr>\n",
       "      <td>0</td>\n",
       "      <td>Resort Hotel</td>\n",
       "      <td>0</td>\n",
       "      <td>342</td>\n",
       "      <td>2015</td>\n",
       "      <td>July</td>\n",
       "      <td>27</td>\n",
       "      <td>1</td>\n",
       "      <td>0</td>\n",
       "      <td>0</td>\n",
       "      <td>2</td>\n",
       "      <td>...</td>\n",
       "      <td>No Deposit</td>\n",
       "      <td>NaN</td>\n",
       "      <td>NaN</td>\n",
       "      <td>0</td>\n",
       "      <td>Transient</td>\n",
       "      <td>0.0</td>\n",
       "      <td>0</td>\n",
       "      <td>0</td>\n",
       "      <td>Check-Out</td>\n",
       "      <td>2015-07-01</td>\n",
       "    </tr>\n",
       "    <tr>\n",
       "      <td>1</td>\n",
       "      <td>Resort Hotel</td>\n",
       "      <td>0</td>\n",
       "      <td>737</td>\n",
       "      <td>2015</td>\n",
       "      <td>July</td>\n",
       "      <td>27</td>\n",
       "      <td>1</td>\n",
       "      <td>0</td>\n",
       "      <td>0</td>\n",
       "      <td>2</td>\n",
       "      <td>...</td>\n",
       "      <td>No Deposit</td>\n",
       "      <td>NaN</td>\n",
       "      <td>NaN</td>\n",
       "      <td>0</td>\n",
       "      <td>Transient</td>\n",
       "      <td>0.0</td>\n",
       "      <td>0</td>\n",
       "      <td>0</td>\n",
       "      <td>Check-Out</td>\n",
       "      <td>2015-07-01</td>\n",
       "    </tr>\n",
       "    <tr>\n",
       "      <td>2</td>\n",
       "      <td>Resort Hotel</td>\n",
       "      <td>0</td>\n",
       "      <td>7</td>\n",
       "      <td>2015</td>\n",
       "      <td>July</td>\n",
       "      <td>27</td>\n",
       "      <td>1</td>\n",
       "      <td>0</td>\n",
       "      <td>1</td>\n",
       "      <td>1</td>\n",
       "      <td>...</td>\n",
       "      <td>No Deposit</td>\n",
       "      <td>NaN</td>\n",
       "      <td>NaN</td>\n",
       "      <td>0</td>\n",
       "      <td>Transient</td>\n",
       "      <td>75.0</td>\n",
       "      <td>0</td>\n",
       "      <td>0</td>\n",
       "      <td>Check-Out</td>\n",
       "      <td>2015-07-02</td>\n",
       "    </tr>\n",
       "    <tr>\n",
       "      <td>3</td>\n",
       "      <td>Resort Hotel</td>\n",
       "      <td>0</td>\n",
       "      <td>13</td>\n",
       "      <td>2015</td>\n",
       "      <td>July</td>\n",
       "      <td>27</td>\n",
       "      <td>1</td>\n",
       "      <td>0</td>\n",
       "      <td>1</td>\n",
       "      <td>1</td>\n",
       "      <td>...</td>\n",
       "      <td>No Deposit</td>\n",
       "      <td>304.0</td>\n",
       "      <td>NaN</td>\n",
       "      <td>0</td>\n",
       "      <td>Transient</td>\n",
       "      <td>75.0</td>\n",
       "      <td>0</td>\n",
       "      <td>0</td>\n",
       "      <td>Check-Out</td>\n",
       "      <td>2015-07-02</td>\n",
       "    </tr>\n",
       "    <tr>\n",
       "      <td>4</td>\n",
       "      <td>Resort Hotel</td>\n",
       "      <td>0</td>\n",
       "      <td>14</td>\n",
       "      <td>2015</td>\n",
       "      <td>July</td>\n",
       "      <td>27</td>\n",
       "      <td>1</td>\n",
       "      <td>0</td>\n",
       "      <td>2</td>\n",
       "      <td>2</td>\n",
       "      <td>...</td>\n",
       "      <td>No Deposit</td>\n",
       "      <td>240.0</td>\n",
       "      <td>NaN</td>\n",
       "      <td>0</td>\n",
       "      <td>Transient</td>\n",
       "      <td>98.0</td>\n",
       "      <td>0</td>\n",
       "      <td>1</td>\n",
       "      <td>Check-Out</td>\n",
       "      <td>2015-07-03</td>\n",
       "    </tr>\n",
       "  </tbody>\n",
       "</table>\n",
       "<p>5 rows × 32 columns</p>\n",
       "</div>"
      ],
      "text/plain": [
       "          hotel  is_canceled  lead_time  arrival_date_year arrival_date_month  \\\n",
       "0  Resort Hotel            0        342               2015               July   \n",
       "1  Resort Hotel            0        737               2015               July   \n",
       "2  Resort Hotel            0          7               2015               July   \n",
       "3  Resort Hotel            0         13               2015               July   \n",
       "4  Resort Hotel            0         14               2015               July   \n",
       "\n",
       "   arrival_date_week_number  arrival_date_day_of_month  \\\n",
       "0                        27                          1   \n",
       "1                        27                          1   \n",
       "2                        27                          1   \n",
       "3                        27                          1   \n",
       "4                        27                          1   \n",
       "\n",
       "   stays_in_weekend_nights  stays_in_week_nights  adults  ...  deposit_type  \\\n",
       "0                        0                     0       2  ...    No Deposit   \n",
       "1                        0                     0       2  ...    No Deposit   \n",
       "2                        0                     1       1  ...    No Deposit   \n",
       "3                        0                     1       1  ...    No Deposit   \n",
       "4                        0                     2       2  ...    No Deposit   \n",
       "\n",
       "   agent company days_in_waiting_list customer_type   adr  \\\n",
       "0    NaN     NaN                    0     Transient   0.0   \n",
       "1    NaN     NaN                    0     Transient   0.0   \n",
       "2    NaN     NaN                    0     Transient  75.0   \n",
       "3  304.0     NaN                    0     Transient  75.0   \n",
       "4  240.0     NaN                    0     Transient  98.0   \n",
       "\n",
       "   required_car_parking_spaces  total_of_special_requests  reservation_status  \\\n",
       "0                            0                          0           Check-Out   \n",
       "1                            0                          0           Check-Out   \n",
       "2                            0                          0           Check-Out   \n",
       "3                            0                          0           Check-Out   \n",
       "4                            0                          1           Check-Out   \n",
       "\n",
       "  reservation_status_date  \n",
       "0              2015-07-01  \n",
       "1              2015-07-01  \n",
       "2              2015-07-02  \n",
       "3              2015-07-02  \n",
       "4              2015-07-03  \n",
       "\n",
       "[5 rows x 32 columns]"
      ]
     },
     "execution_count": 2,
     "metadata": {},
     "output_type": "execute_result"
    }
   ],
   "source": [
    "# Data source: _https://www.kaggle.com/jessemostipak/hotel-booking-demand/data_\n",
    "# Reading data from csv file\n",
    "path = \"../Data Sets/hotel_bookings.csv\"\n",
    "hotel_booking_df = pd.read_csv(path)\n",
    "hotel_booking_df.head()"
   ]
  },
  {
   "cell_type": "markdown",
   "metadata": {},
   "source": [
    "### Splitting Data\n",
    "For the purposes of evaluating our calssifiers, I will be doing a test/train split. Because the dataset is so large, both the training and testing sections can be fairly big. Given this, I will simply do a 1:1 split ratio. I will be comparing classifiers by trying to predict whether or not a booking is cancelled"
   ]
  },
  {
   "cell_type": "code",
   "execution_count": 3,
   "metadata": {},
   "outputs": [],
   "source": [
    "# Getting features to be used in classifiers\n",
    "features = [x for x in hotel_booking_df]\n",
    "#  Removing target and target related columns\n",
    "removal = [\"is_canceled\", \"reservation_status\", \"reservation_status_date\"]\n",
    "for i in removal:\n",
    "    features.remove(i)\n",
    "\n",
    "# Making a Factorized copy of \"hotel_booking_df\"\n",
    "hotel_booking_df_factorize = pd.DataFrame()\n",
    "booking_classes = []\n",
    "for i in hotel_booking_df:\n",
    "    hotel_booking_df_factorize[i], booking_class = pd.factorize(hotel_booking_df[i])\n",
    "    booking_classes.append(booking_class)\n",
    "    \n",
    "# Splitting the data\n",
    "training = hotel_booking_df_factorize[hotel_booking_df_factorize.index %2 != 0]\n",
    "testing = hotel_booking_df_factorize[hotel_booking_df_factorize.index %2 == 0]\n",
    "\n",
    "# Data and target for classifier training\n",
    "X_train = training[features]\n",
    "y_train = training[\"is_canceled\"]\n",
    "\n",
    "# Data and target for classifier testing\n",
    "X_test = testing[features] # Training data\n",
    "y_true = testing[\"is_canceled\"]"
   ]
  },
  {
   "cell_type": "markdown",
   "metadata": {},
   "source": [
    "---"
   ]
  },
  {
   "cell_type": "markdown",
   "metadata": {},
   "source": [
    "## Exploration\n",
    "---"
   ]
  },
  {
   "cell_type": "markdown",
   "metadata": {},
   "source": [
    "### Visualizing Cancelations"
   ]
  },
  {
   "cell_type": "code",
   "execution_count": 4,
   "metadata": {},
   "outputs": [
    {
     "data": {
      "text/html": [
       "<div>\n",
       "<style scoped>\n",
       "    .dataframe tbody tr th:only-of-type {\n",
       "        vertical-align: middle;\n",
       "    }\n",
       "\n",
       "    .dataframe tbody tr th {\n",
       "        vertical-align: top;\n",
       "    }\n",
       "\n",
       "    .dataframe thead th {\n",
       "        text-align: right;\n",
       "    }\n",
       "</style>\n",
       "<table border=\"1\" class=\"dataframe\">\n",
       "  <thead>\n",
       "    <tr style=\"text-align: right;\">\n",
       "      <th></th>\n",
       "      <th>is_canceled</th>\n",
       "      <th>country_count</th>\n",
       "      <th>cancel_percentage</th>\n",
       "    </tr>\n",
       "    <tr>\n",
       "      <th>country</th>\n",
       "      <th></th>\n",
       "      <th></th>\n",
       "      <th></th>\n",
       "    </tr>\n",
       "  </thead>\n",
       "  <tbody>\n",
       "    <tr>\n",
       "      <td>SRB</td>\n",
       "      <td>3</td>\n",
       "      <td>101</td>\n",
       "      <td>2.970297</td>\n",
       "    </tr>\n",
       "    <tr>\n",
       "      <td>JPN</td>\n",
       "      <td>28</td>\n",
       "      <td>197</td>\n",
       "      <td>14.213198</td>\n",
       "    </tr>\n",
       "    <tr>\n",
       "      <td>FIN</td>\n",
       "      <td>69</td>\n",
       "      <td>447</td>\n",
       "      <td>15.436242</td>\n",
       "    </tr>\n",
       "    <tr>\n",
       "      <td>DEU</td>\n",
       "      <td>1218</td>\n",
       "      <td>7287</td>\n",
       "      <td>16.714697</td>\n",
       "    </tr>\n",
       "    <tr>\n",
       "      <td>AUT</td>\n",
       "      <td>230</td>\n",
       "      <td>1263</td>\n",
       "      <td>18.210610</td>\n",
       "    </tr>\n",
       "    <tr>\n",
       "      <td>NLD</td>\n",
       "      <td>387</td>\n",
       "      <td>2104</td>\n",
       "      <td>18.393536</td>\n",
       "    </tr>\n",
       "    <tr>\n",
       "      <td>FRA</td>\n",
       "      <td>1934</td>\n",
       "      <td>10415</td>\n",
       "      <td>18.569371</td>\n",
       "    </tr>\n",
       "    <tr>\n",
       "      <td>CN</td>\n",
       "      <td>254</td>\n",
       "      <td>1279</td>\n",
       "      <td>19.859265</td>\n",
       "    </tr>\n",
       "    <tr>\n",
       "      <td>GBR</td>\n",
       "      <td>2453</td>\n",
       "      <td>12129</td>\n",
       "      <td>20.224256</td>\n",
       "    </tr>\n",
       "    <tr>\n",
       "      <td>BEL</td>\n",
       "      <td>474</td>\n",
       "      <td>2342</td>\n",
       "      <td>20.239112</td>\n",
       "    </tr>\n",
       "    <tr>\n",
       "      <td>DZA</td>\n",
       "      <td>21</td>\n",
       "      <td>103</td>\n",
       "      <td>20.388350</td>\n",
       "    </tr>\n",
       "    <tr>\n",
       "      <td>CZE</td>\n",
       "      <td>37</td>\n",
       "      <td>171</td>\n",
       "      <td>21.637427</td>\n",
       "    </tr>\n",
       "    <tr>\n",
       "      <td>SWE</td>\n",
       "      <td>227</td>\n",
       "      <td>1024</td>\n",
       "      <td>22.167969</td>\n",
       "    </tr>\n",
       "    <tr>\n",
       "      <td>IND</td>\n",
       "      <td>35</td>\n",
       "      <td>152</td>\n",
       "      <td>23.026316</td>\n",
       "    </tr>\n",
       "    <tr>\n",
       "      <td>POL</td>\n",
       "      <td>215</td>\n",
       "      <td>919</td>\n",
       "      <td>23.394995</td>\n",
       "    </tr>\n",
       "    <tr>\n",
       "      <td>USA</td>\n",
       "      <td>501</td>\n",
       "      <td>2097</td>\n",
       "      <td>23.891273</td>\n",
       "    </tr>\n",
       "    <tr>\n",
       "      <td>IRL</td>\n",
       "      <td>832</td>\n",
       "      <td>3375</td>\n",
       "      <td>24.651852</td>\n",
       "    </tr>\n",
       "    <tr>\n",
       "      <td>CHE</td>\n",
       "      <td>428</td>\n",
       "      <td>1730</td>\n",
       "      <td>24.739884</td>\n",
       "    </tr>\n",
       "    <tr>\n",
       "      <td>DNK</td>\n",
       "      <td>109</td>\n",
       "      <td>435</td>\n",
       "      <td>25.057471</td>\n",
       "    </tr>\n",
       "    <tr>\n",
       "      <td>AUS</td>\n",
       "      <td>107</td>\n",
       "      <td>426</td>\n",
       "      <td>25.117371</td>\n",
       "    </tr>\n",
       "    <tr>\n",
       "      <td>ARG</td>\n",
       "      <td>54</td>\n",
       "      <td>214</td>\n",
       "      <td>25.233645</td>\n",
       "    </tr>\n",
       "    <tr>\n",
       "      <td>ISR</td>\n",
       "      <td>169</td>\n",
       "      <td>669</td>\n",
       "      <td>25.261584</td>\n",
       "    </tr>\n",
       "    <tr>\n",
       "      <td>ESP</td>\n",
       "      <td>2177</td>\n",
       "      <td>8568</td>\n",
       "      <td>25.408497</td>\n",
       "    </tr>\n",
       "    <tr>\n",
       "      <td>ROU</td>\n",
       "      <td>134</td>\n",
       "      <td>500</td>\n",
       "      <td>26.800000</td>\n",
       "    </tr>\n",
       "    <tr>\n",
       "      <td>GRC</td>\n",
       "      <td>35</td>\n",
       "      <td>128</td>\n",
       "      <td>27.343750</td>\n",
       "    </tr>\n",
       "    <tr>\n",
       "      <td>NOR</td>\n",
       "      <td>181</td>\n",
       "      <td>607</td>\n",
       "      <td>29.818781</td>\n",
       "    </tr>\n",
       "    <tr>\n",
       "      <td>HUN</td>\n",
       "      <td>77</td>\n",
       "      <td>230</td>\n",
       "      <td>33.478261</td>\n",
       "    </tr>\n",
       "    <tr>\n",
       "      <td>ITA</td>\n",
       "      <td>1333</td>\n",
       "      <td>3766</td>\n",
       "      <td>35.395645</td>\n",
       "    </tr>\n",
       "    <tr>\n",
       "      <td>BRA</td>\n",
       "      <td>830</td>\n",
       "      <td>2224</td>\n",
       "      <td>37.320144</td>\n",
       "    </tr>\n",
       "    <tr>\n",
       "      <td>RUS</td>\n",
       "      <td>239</td>\n",
       "      <td>632</td>\n",
       "      <td>37.816456</td>\n",
       "    </tr>\n",
       "    <tr>\n",
       "      <td>LUX</td>\n",
       "      <td>109</td>\n",
       "      <td>287</td>\n",
       "      <td>37.979094</td>\n",
       "    </tr>\n",
       "    <tr>\n",
       "      <td>TUR</td>\n",
       "      <td>102</td>\n",
       "      <td>248</td>\n",
       "      <td>41.129032</td>\n",
       "    </tr>\n",
       "    <tr>\n",
       "      <td>KOR</td>\n",
       "      <td>55</td>\n",
       "      <td>133</td>\n",
       "      <td>41.353383</td>\n",
       "    </tr>\n",
       "    <tr>\n",
       "      <td>MAR</td>\n",
       "      <td>109</td>\n",
       "      <td>259</td>\n",
       "      <td>42.084942</td>\n",
       "    </tr>\n",
       "    <tr>\n",
       "      <td>CHN</td>\n",
       "      <td>462</td>\n",
       "      <td>999</td>\n",
       "      <td>46.246246</td>\n",
       "    </tr>\n",
       "    <tr>\n",
       "      <td>AGO</td>\n",
       "      <td>205</td>\n",
       "      <td>362</td>\n",
       "      <td>56.629834</td>\n",
       "    </tr>\n",
       "    <tr>\n",
       "      <td>PRT</td>\n",
       "      <td>27519</td>\n",
       "      <td>48590</td>\n",
       "      <td>56.635110</td>\n",
       "    </tr>\n",
       "  </tbody>\n",
       "</table>\n",
       "</div>"
      ],
      "text/plain": [
       "         is_canceled  country_count  cancel_percentage\n",
       "country                                               \n",
       "SRB                3            101           2.970297\n",
       "JPN               28            197          14.213198\n",
       "FIN               69            447          15.436242\n",
       "DEU             1218           7287          16.714697\n",
       "AUT              230           1263          18.210610\n",
       "NLD              387           2104          18.393536\n",
       "FRA             1934          10415          18.569371\n",
       "CN               254           1279          19.859265\n",
       "GBR             2453          12129          20.224256\n",
       "BEL              474           2342          20.239112\n",
       "DZA               21            103          20.388350\n",
       "CZE               37            171          21.637427\n",
       "SWE              227           1024          22.167969\n",
       "IND               35            152          23.026316\n",
       "POL              215            919          23.394995\n",
       "USA              501           2097          23.891273\n",
       "IRL              832           3375          24.651852\n",
       "CHE              428           1730          24.739884\n",
       "DNK              109            435          25.057471\n",
       "AUS              107            426          25.117371\n",
       "ARG               54            214          25.233645\n",
       "ISR              169            669          25.261584\n",
       "ESP             2177           8568          25.408497\n",
       "ROU              134            500          26.800000\n",
       "GRC               35            128          27.343750\n",
       "NOR              181            607          29.818781\n",
       "HUN               77            230          33.478261\n",
       "ITA             1333           3766          35.395645\n",
       "BRA              830           2224          37.320144\n",
       "RUS              239            632          37.816456\n",
       "LUX              109            287          37.979094\n",
       "TUR              102            248          41.129032\n",
       "KOR               55            133          41.353383\n",
       "MAR              109            259          42.084942\n",
       "CHN              462            999          46.246246\n",
       "AGO              205            362          56.629834\n",
       "PRT            27519          48590          56.635110"
      ]
     },
     "execution_count": 4,
     "metadata": {},
     "output_type": "execute_result"
    }
   ],
   "source": [
    "# Grouping the data by month\n",
    "agg = hotel_booking_df.groupby('country')\n",
    "# months = ['January','February','March','April','May','June','July','August','September','October','November','December']\n",
    "\n",
    "# getting the sum and mean \n",
    "agg_sum = agg.sum()#.reindex(months)\n",
    "# agg_sum.index = [x[0:3] for x in agg_sum.index ]\n",
    "\n",
    "agg_count = agg.count()#.reindex(months)\n",
    "agg_mean = agg.mean()#.reindex(months)\n",
    "\n",
    "# Getting just the first three characters of each month name for plotting purposes\n",
    "# # agg_count.index = [x[:3] for x in agg_sum.index ]\n",
    "\n",
    "# plt.figure(figsize=(8,6))\n",
    "\n",
    "# # total reservations\n",
    "# sns.barplot(data=agg_count, x=agg_count.index, y=\"is_canceled\", palette=\"bright\")\n",
    "# # cancelations\n",
    "# sns.barplot(data=agg_sum, x=agg_sum.index, y=\"is_canceled\", palette=\"dark\")\n",
    "\n",
    "# # labeling and showing plot\n",
    "# plt.ylabel(\"Reservations\")\n",
    "# plt.title(\"Total Cancelations per Month\")\n",
    "# plt.show()\n",
    "# agg_mean.sort_values(\"is_canceled\", ascending=False)\n",
    "agg_sum[\"country_count\"] = agg_count[\"hotel\"]\n",
    "# test = agg_count.sort_values(\"hotel\", ascending=False)\n",
    "# test = test[test.hotel > 100]\n",
    "# test\n",
    "\n",
    "percentage = agg_sum[agg_sum.country_count > 100][[\"is_canceled\", \"country_count\"]].copy()\n",
    "percentage[\"cancel_percentage\"] = percentage[\"is_canceled\"]/percentage[\"country_count\"]*100\n",
    "\n",
    "percentage.sort_values(\"cancel_percentage\")\n",
    "\n"
   ]
  },
  {
   "cell_type": "markdown",
   "metadata": {},
   "source": [
    "In this graph the dark regions are the number of reservations that have been canceled, and the bright regions are the reservations that were held. It's clear that a lot of reservations are not held, but how many?\n",
    "\n",
    "### Getting cancelation numbers"
   ]
  },
  {
   "cell_type": "code",
   "execution_count": 5,
   "metadata": {},
   "outputs": [
    {
     "name": "stdout",
     "output_type": "stream",
     "text": [
      "119390 total reservations.\n",
      "75166 reservations were held.\n",
      "44224 reservations were canceled.\n",
      "\n",
      "This gives us a 37.0% cancelation rate.\n"
     ]
    }
   ],
   "source": [
    "canceled = len(hotel_booking_df[hotel_booking_df.is_canceled == 1])\n",
    "held = len(hotel_booking_df[hotel_booking_df.is_canceled == 0])\n",
    "total = held+canceled\n",
    "\n",
    "print(f\"{total} total reservations.\")\n",
    "print(f\"{held} reservations were held.\")\n",
    "print(f\"{canceled} reservations were canceled.\")\n",
    "print(f\"\\nThis gives us a {canceled/total*100:3.3}% cancelation rate.\")"
   ]
  },
  {
   "cell_type": "markdown",
   "metadata": {},
   "source": [
    "---"
   ]
  },
  {
   "cell_type": "markdown",
   "metadata": {},
   "source": [
    "## Classifier Comparison \n",
    "---"
   ]
  },
  {
   "cell_type": "markdown",
   "metadata": {},
   "source": [
    "In this section, I am going to train a classifier to predict whether or not a reservation will be canceled. To do this, I will first split the data in two. The first part will be what I use to train the classifier, the second will be used to test the classifier."
   ]
  },
  {
   "cell_type": "markdown",
   "metadata": {},
   "source": [
    "### Creating Classifiers\n",
    "In this section I will make three classifiers. First I will create decision tree, then a naive Bayes. After this I will make a K nearest neighbors classifier. In order to have a fair comparison, I will find the optimal values for the classifiers before comparison.\n",
    "\n",
    "Once these are all made I will be comparing results and analyzing which works best on this data."
   ]
  },
  {
   "cell_type": "markdown",
   "metadata": {},
   "source": [
    "### Finding Optimal Classifier Parameters\n",
    "First, I will find the optimal number of neighbors for the K-nearest neigbbors classifier, then I will find the optimal max depth for the decision tree classifier.\n",
    "\n",
    "Note: For my purposes here, \"optimal\" means the most most accurate."
   ]
  },
  {
   "cell_type": "markdown",
   "metadata": {},
   "source": [
    "_Finding optimal k_"
   ]
  },
  {
   "cell_type": "code",
   "execution_count": 11,
   "metadata": {},
   "outputs": [],
   "source": [
    "# Getting scores for every other k between 1 and 10 (Might take a few minutes to run)\n",
    "scoresKNN = []\n",
    "max_k_tested = 10\n",
    "for i in range(1, max_k_tested+1):\n",
    "    clf = KNeighborsClassifier(n_neighbors=i)\n",
    "    clf.fit(X_train, y_train)\n",
    "    scoresKNN.append(clf.score(X_test, y_true))"
   ]
  },
  {
   "cell_type": "code",
   "execution_count": 13,
   "metadata": {},
   "outputs": [
    {
     "name": "stdout",
     "output_type": "stream",
     "text": [
      "[0.7869168272049586, 0.7997487226735908, 0.7819415361420554, 0.789999162408912, 0.7765642013568975, 0.7842700393667812, 0.7739006616969596, 0.7774520479102103, 0.7717061730463188, 0.7732975961135774]\n"
     ]
    },
    {
     "data": {
      "image/png": "[encoded data removed]",
      "text/plain": [
       "<Figure size 720x360 with 1 Axes>"
      ]
     },
     "metadata": {
      "needs_background": "light"
     },
     "output_type": "display_data"
    }
   ],
   "source": [
    "# And plotting those scores  \n",
    "plt.figure(figsize=(10,5))\n",
    "plt.plot(np.linspace(1, max_k_tested, max_k_tested), scoresKNN, marker=\"s\", ms=10, lw=5, color=\"hotpink\")\n",
    "plt.xticks([x for x in range(max_k_tested)])\n",
    "plt.ylabel(\"Accuracy\")\n",
    "plt.xlabel(\"K Nearest Neighbors\")\n",
    "print(scoresKNN)\n",
    "plt.grid(axis=\"x\")"
   ]
  },
  {
   "cell_type": "markdown",
   "metadata": {},
   "source": [
    "Clearly, the optimal value of k is 2"
   ]
  },
  {
   "cell_type": "markdown",
   "metadata": {},
   "source": [
    "_Finding optimal max depth_"
   ]
  },
  {
   "cell_type": "code",
   "execution_count": 18,
   "metadata": {},
   "outputs": [],
   "source": [
    "# Getting scores for every max_depth between 1 and 20\n",
    "scoresDT = []\n",
    "max_MD_tested = 30\n",
    "for i in range(1, max_MD_tested+1):\n",
    "    clf = DecisionTreeClassifier(max_depth=i, random_state=1)\n",
    "    clf.fit(X_train, y_train)\n",
    "    scoresDT.append(clf.score(X_test, y_true))"
   ]
  },
  {
   "cell_type": "code",
   "execution_count": 19,
   "metadata": {},
   "outputs": [
    {
     "data": {
      "image/png": "[encoded data removed]",
      "text/plain": [
       "<Figure size 720x360 with 1 Axes>"
      ]
     },
     "metadata": {
      "needs_background": "light"
     },
     "output_type": "display_data"
    }
   ],
   "source": [
    "# And plotting those scores  \n",
    "plt.figure(figsize=(10,5))\n",
    "plt.plot(np.linspace(1, max_MD_tested, max_MD_tested), scoresDT, marker=\"s\", ms=10, lw=5, color=\"hotpink\")\n",
    "plt.xticks([x for x in range(max_MD_tested+1)])\n",
    "plt.ylabel(\"Accuracy\")\n",
    "plt.xlabel(\"Max Depth\")\n",
    "plt.grid(axis=\"x\")"
   ]
  },
  {
   "cell_type": "markdown",
   "metadata": {},
   "source": [
    "Creating Calssifiers"
   ]
  },
  {
   "cell_type": "code",
   "execution_count": null,
   "metadata": {},
   "outputs": [],
   "source": [
    "# Constants for classifiers\n",
    "NEIGHBORS = 2\n",
    "MAX_DEPTH = 28\n",
    "\n",
    "# Classifiers & classifier names\n",
    "clfs = [\n",
    "    KNeighborsClassifier(n_neighbors=NEIGHBORS),\n",
    "    DecisionTreeClassifier(max_depth=MAX_DEPTH, random_state=1),\n",
    "    GaussianNB()\n",
    "]\n",
    "names = [\n",
    "    \"K-Neighbors Classifier\",\n",
    "    \"Decision Tree Classifier\",\n",
    "    \"Gaussian Naive Bayes Classifier\"\n",
    "]"
   ]
  },
  {
   "cell_type": "markdown",
   "metadata": {},
   "source": [
    "Creating Fitting Classifiers"
   ]
  },
  {
   "cell_type": "code",
   "execution_count": null,
   "metadata": {},
   "outputs": [],
   "source": [
    "for clf in clfs:\n",
    "    clf.fit(X_train, y_train)"
   ]
  },
  {
   "cell_type": "markdown",
   "metadata": {},
   "source": [
    "Ecaluating each classifier"
   ]
  },
  {
   "cell_type": "code",
   "execution_count": null,
   "metadata": {
    "scrolled": true
   },
   "outputs": [],
   "source": [
    "# Fitting each classifier, and printing its score\n",
    "for clf, name in zip(clfs, names):\n",
    "    print(\"The \"+name+f\" correctly classifies {clf.score(X_test,y_true)*100:3.3}% of the test data.\")cv"
   ]
  },
  {
   "cell_type": "code",
   "execution_count": null,
   "metadata": {},
   "outputs": [],
   "source": []
  },
  {
   "cell_type": "markdown",
   "metadata": {},
   "source": [
    "Given the classifier has a ~80% success rate, we should expect slightly less from our testing data.\n",
    "\n",
    "\n",
    "\n",
    "Here's a plot of the decision tree (double click the plot to zoom)"
   ]
  },
  {
   "cell_type": "code",
   "execution_count": null,
   "metadata": {},
   "outputs": [],
   "source": [
    "# plt.figure(figsize=(30,30))\n",
    "# tree.plot_tree(clfs[1],filled=True, feature_names=features, class_names=['held','canceled'])\n",
    "# plt.show()\n",
    "feat_importanve = clfs[1].feature_importances_\n",
    "\n",
    "importances = pd.DataFrame({\"importance\":feat_importanve, \"name\":features } )\n",
    "importances = importances.sort_values(\"importance\", ascending=False)\n",
    "importances"
   ]
  },
  {
   "cell_type": "markdown",
   "metadata": {},
   "source": [
    "Five most important Features"
   ]
  },
  {
   "cell_type": "code",
   "execution_count": null,
   "metadata": {},
   "outputs": [],
   "source": [
    "features = importances.head()[\"name\"]\n",
    "\n",
    "# Data and target for classifier training\n",
    "X_train = training[features]\n",
    "y_train = training[\"is_canceled\"]\n",
    "\n",
    "# Data and target for classifier testing\n",
    "X_test = testing[features] # Training data\n",
    "y_true = testing[\"is_canceled\"]\n",
    "# X_test"
   ]
  },
  {
   "cell_type": "markdown",
   "metadata": {},
   "source": [
    "---"
   ]
  },
  {
   "cell_type": "code",
   "execution_count": null,
   "metadata": {},
   "outputs": [],
   "source": [
    "# Getting scores for every k between 1 and 10 (Might take a few minutes to run)\n",
    "scoresKNN = []\n",
    "max_k_tested = 10\n",
    "for i in range(1, max_k_tested+1):\n",
    "    clf = KNeighborsClassifier(n_neighbors=i)\n",
    "    clf.fit(X_train, y_train)\n",
    "    scoresKNN.append(clf.score(X_test, y_true))"
   ]
  },
  {
   "cell_type": "code",
   "execution_count": null,
   "metadata": {},
   "outputs": [],
   "source": [
    "# And plotting those scores  \n",
    "plt.figure(figsize=(10,5))\n",
    "plt.plot(np.linspace(1, max_k_tested, max_k_tested), scoresKNN, marker=\"s\", ms=10, lw=5, color=\"lightblue\")\n",
    "plt.xticks([x for x in range(max_k_tested+1)])\n",
    "plt.ylabel(\"Accuracy\")\n",
    "plt.xlabel(\"K Nearest Neighbors\")\n",
    "plt.grid(axis=\"x\")"
   ]
  },
  {
   "cell_type": "markdown",
   "metadata": {},
   "source": [
    "Clearly, the optimal value of k is 2"
   ]
  },
  {
   "cell_type": "markdown",
   "metadata": {},
   "source": [
    "_Finding optimal max depth_"
   ]
  },
  {
   "cell_type": "code",
   "execution_count": null,
   "metadata": {},
   "outputs": [],
   "source": [
    "# Getting scores for every max_depth between 1 and 10 (Might take a few minutes to run)\n",
    "scoresDT = []\n",
    "max_MD_tested = 40\n",
    "for i in range(1, max_MD_tested+1):\n",
    "    clf = DecisionTreeClassifier(max_depth=i, random_state=1)\n",
    "    clf.fit(X_train, y_train)\n",
    "    scoresDT.append(clf.score(X_test, y_true))"
   ]
  },
  {
   "cell_type": "code",
   "execution_count": null,
   "metadata": {},
   "outputs": [],
   "source": [
    "# And plotting those scores  \n",
    "plt.figure(figsize=(10,5))\n",
    "plt.plot(np.linspace(1, max_MD_tested, max_MD_tested), scoresDT, marker=\"s\", ms=10, lw=5, color=\"lightblue\")\n",
    "plt.xticks([x for x in range(max_MD_tested+1)])\n",
    "plt.ylabel(\"Accuracy\")\n",
    "plt.xlabel(\"Max Depth\")\n",
    "plt.grid(axis=\"x\")"
   ]
  },
  {
   "cell_type": "code",
   "execution_count": null,
   "metadata": {},
   "outputs": [],
   "source": [
    "clf.feature_importances_"
   ]
  },
  {
   "cell_type": "markdown",
   "metadata": {},
   "source": [
    "It looks like the score doesn't get much better than 28, so that's what I will use."
   ]
  },
  {
   "cell_type": "markdown",
   "metadata": {},
   "source": [
    "Ecaluating each classifier"
   ]
  },
  {
   "cell_type": "code",
   "execution_count": null,
   "metadata": {},
   "outputs": [],
   "source": [
    "# Constants for classifiers\n",
    "NEIGHBORS = 2\n",
    "MAX_DEPTH = 28\n",
    "\n",
    "# Classifiers & classifier names\n",
    "clfs = [\n",
    "    KNeighborsClassifier(n_neighbors=NEIGHBORS),\n",
    "    DecisionTreeClassifier(max_depth=MAX_DEPTH, random_state=1),\n",
    "    GaussianNB()\n",
    "]\n",
    "names = [\n",
    "    \"K-Neighbors Classifier\",\n",
    "    \"Decision Tree Classifier\",\n",
    "    \"Gaussian Naive Bayes Classifier\"\n",
    "]"
   ]
  },
  {
   "cell_type": "markdown",
   "metadata": {},
   "source": [
    "Creating Fitting Classifiers"
   ]
  },
  {
   "cell_type": "code",
   "execution_count": null,
   "metadata": {},
   "outputs": [],
   "source": [
    "for clf in clfs:\n",
    "    clf.fit(X_train, y_train)"
   ]
  },
  {
   "cell_type": "code",
   "execution_count": null,
   "metadata": {
    "scrolled": true
   },
   "outputs": [],
   "source": [
    "# Fitting each classifier, and printing its score\n",
    "for clf, name in zip(clfs, names):\n",
    "    print(\"The \"+name+f\" correctly classifies {clf.score(X_test,y_true)*100:3.3}% of the test data.\")"
   ]
  },
  {
   "cell_type": "markdown",
   "metadata": {},
   "source": [
    "### Testing Classifiers\n"
   ]
  },
  {
   "cell_type": "code",
   "execution_count": null,
   "metadata": {},
   "outputs": [],
   "source": [
    "testing[\"prediction\"] = clf.predict(X_pred)\n",
    "\n",
    "\n",
    "\n",
    "# testing[\"prediction_confidence\"] = confidenceCanceled\n",
    "\n",
    "# Printing prediction correctness\n",
    "for clf, name in zip(clfs, names):\n",
    "    print(name+f\" gets {clf.score(X_pred, y_true)*100:3.3}% correct\")"
   ]
  },
  {
   "cell_type": "code",
   "execution_count": null,
   "metadata": {},
   "outputs": [],
   "source": [
    "testing_results = pd.DataFrame(y_true)\n",
    "for clf, name in zip(clfs, names):\n",
    "    # Finding Confidence val and adding a column containing it in testing data\n",
    "    confidence = []\n",
    "    for i in clf.predict_proba(X_pred):\n",
    "        confidence.append(i[1]) # WHY???\n",
    "        \n",
    "    testing_results[name+\" Confidence\"] = confidence\n",
    "    testing_results[name+\" Prediction\"] = testing_results[name+\" Confidence\"].round()\n",
    "\n",
    "testing_results\n"
   ]
  },
  {
   "cell_type": "markdown",
   "metadata": {},
   "source": [
    "Going to graph accuries for both guess 0 and guess 1 for is_cancelled. \n",
    "For each classifier. Also, will graph the percentages for each range of confidences."
   ]
  },
  {
   "cell_type": "code",
   "execution_count": null,
   "metadata": {},
   "outputs": [],
   "source": [
    "accuracies =  [[],[],[]]\n",
    "count_total = [[],[],[]]\n",
    "count_correct = [[],[],[]]\n",
    "\n",
    "for i in np.linspace(0, 1):\n",
    "    for x in range(len(names)):\n",
    "        name = names[x]\n",
    "        very_confident = testing_results[testing_results[name+\" Confidence\"] >=  i]\n",
    "        very_confident_total = len(very_confident)\n",
    "        very_confident_correct = len(very_confident[very_confident[name+\" Prediction\"] == very_confident[\"is_canceled\"]])\n",
    "        accuracies[x].append(very_confident_correct/very_confident_total)\n",
    "        count_total[x].append(very_confident_total)\n",
    "        count_correct[x].append(very_confident_correct)\n",
    "        \n",
    "# Setting range to 0-1 on count_total and count_correct\n",
    "count_total_norm   = [ [float(i)/max(count_total[x]) for i in count_total[x]] for x in range(3) ]\n",
    "count_correct_norm = [ [float(i)/max(count_correct[x]) for i in count_correct[x]] for x in range(3) ]\n",
    "\n",
    "# plt.subplot(2,3,1)\n",
    "plt.figure(figsize=(15,9))\n",
    "for x in range(3):\n",
    "    plt.plot(np.linspace(0,1), accuracies[x], label=names[x])\n",
    "\n",
    "plt.ylim(0.6,1)\n",
    "plt.plot([0,1], [.63,.63], label=\"Assuming Held\")\n",
    "plt.legend()\n",
    "plt.xlabel(\"Confidence\")\n",
    "plt.ylabel(\"Correctness\")\n",
    "# plt.show()\n",
    "\n",
    "for x in range(3):\n",
    "#     plt.figure(figsize=(15,9))\n",
    "#     plt.subplot(2,3,3+x)\n",
    "    plt.plot(np.linspace(0, 1), count_total_norm[x], label=names[x], ls=\"--\")\n",
    "    plt.plot(np.linspace(0, 1), count_correct_norm[x], label=names[x])\n",
    "    plt.legend()\n",
    "    plt.xlabel(\"Confidence\")\n",
    "    plt.ylabel(\"Percentage\")\n",
    "plt.show() "
   ]
  },
  {
   "cell_type": "code",
   "execution_count": null,
   "metadata": {},
   "outputs": [],
   "source": [
    "importances = pd.DataFrame()\n",
    "\n",
    "importances[\"importance\"] = clf.feature_importances_\n",
    "importances[\"feature\"] = features\n",
    "importances = importances.sort_values(\"importance\", ascending=False)\n",
    "\n",
    "print(importances[importances.importance > 0])"
   ]
  },
  {
   "cell_type": "code",
   "execution_count": null,
   "metadata": {},
   "outputs": [],
   "source": [
    "def difference(A, b):\n",
    "    split = A.copy()\n",
    "    split = A.groupby(b).mean()\n",
    "\n",
    "    dif = split.diff()\n",
    "    return dif.mean().sort_values()"
   ]
  },
  {
   "cell_type": "code",
   "execution_count": null,
   "metadata": {},
   "outputs": [],
   "source": [
    "difference(hotel_booking_df, hotel_booking_df.is_canceled == True)"
   ]
  }
 ],
 "metadata": {
  "kernelspec": {
   "display_name": "Python 3",
   "language": "python",
   "name": "python3"
  },
  "language_info": {
   "codemirror_mode": {
    "name": "ipython",
    "version": 3
   },
   "file_extension": ".py",
   "mimetype": "text/x-python",
   "name": "python",
   "nbconvert_exporter": "python",
   "pygments_lexer": "ipython3",
   "version": "3.7.4"
  }
 },
 "nbformat": 4,
 "nbformat_minor": 2
}
